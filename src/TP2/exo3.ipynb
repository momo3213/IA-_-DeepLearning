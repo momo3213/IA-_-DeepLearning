{
 "cells": [
  {
   "cell_type": "markdown",
   "metadata": {},
   "source": [
    "## Exercice 2.3"
   ]
  },
  {
   "cell_type": "code",
   "execution_count": 1,
   "metadata": {},
   "outputs": [],
   "source": [
    "import tensorflow as tf"
   ]
  },
  {
   "cell_type": "markdown",
   "metadata": {},
   "source": [
    "### Chargement et prétraitement des données"
   ]
  },
  {
   "cell_type": "code",
   "execution_count": 5,
   "metadata": {},
   "outputs": [
    {
     "name": "stdout",
     "output_type": "stream",
     "text": [
      "Shape x_train: (50000, 32, 32, 3), y_train: (50000, 1)\n",
      "Shape x_test: (10000, 32, 32, 3), y_test: (10000, 1)\n"
     ]
    }
   ],
   "source": [
    "from tensorflow.keras.datasets import cifar10\n",
    "from tensorflow.keras.utils import to_categorical\n",
    "\n",
    "(x_train, y_train), (x_test, y_test) = cifar10.load_data()\n",
    "\n",
    "# Normalisation des pixels (valeurs entre 0 et 1)\n",
    "x_train = x_train.astype('float32') / 255.0\n",
    "x_test = x_test.astype('float32') / 255.0\n",
    "\n",
    "print(f\"Shape x_train: {x_train.shape}, y_train: {y_train.shape}\")\n",
    "print(f\"Shape x_test: {x_test.shape}, y_test: {y_test.shape}\")\n"
   ]
  },
  {
   "cell_type": "markdown",
   "metadata": {},
   "source": [
    "Augmentation des données d'entrainement pour rendre le modèle plus robuste"
   ]
  },
  {
   "cell_type": "code",
   "execution_count": 6,
   "metadata": {},
   "outputs": [
    {
     "name": "stdout",
     "output_type": "stream",
     "text": [
      "Dimensions des données d'entraînement d'origine : (50000, 32, 32, 3)\n",
      "Dimensions des données augmentées : (50000, 32, 32, 3)\n",
      "Dimensions des données combinées : (100000, 32, 32, 3)\n"
     ]
    }
   ],
   "source": [
    "import numpy as np\n",
    "from tensorflow.keras.preprocessing.image import ImageDataGenerator\n",
    "\n",
    "# Générateur d'augmentation (rotation, décalage, zoom)\n",
    "datagen = ImageDataGenerator(\n",
    "    rotation_range=15,\n",
    "    width_shift_range=0.1,\n",
    "    height_shift_range=0.1,\n",
    "    horizontal_flip=True,\n",
    "    zoom_range=0.1\n",
    ")\n",
    "\n",
    "datagen.fit(x_train)\n",
    "\n",
    "augmented_data = []\n",
    "augmented_labels = []\n",
    "\n",
    "# Générer des données augmentées et les collecter\n",
    "for x_batch, y_batch in datagen.flow(x_train, y_train, batch_size=32, shuffle=False):\n",
    "    augmented_data.append(x_batch)\n",
    "    augmented_labels.append(y_batch)\n",
    "    if len(augmented_data) * 32 >= len(x_train):  \n",
    "        break\n",
    "\n",
    "x_train_augmented = np.concatenate(augmented_data, axis=0)\n",
    "y_train_augmented = np.concatenate(augmented_labels, axis=0)\n",
    "x_train_combined = np.concatenate((x_train, x_train_augmented), axis=0)\n",
    "y_train_combined = np.concatenate((y_train, y_train_augmented), axis=0)\n",
    "\n",
    "print(f\"Dimensions des données d'entraînement d'origine : {x_train.shape}\")\n",
    "print(f\"Dimensions des données augmentées : {x_train_augmented.shape}\")\n",
    "print(f\"Dimensions des données combinées : {x_train_combined.shape}\")\n"
   ]
  },
  {
   "cell_type": "markdown",
   "metadata": {},
   "source": [
    "### Création d'un Modèle de Réseau de Neurones Concolutif"
   ]
  },
  {
   "cell_type": "markdown",
   "metadata": {},
   "source": [
    "- 3 couches de convolution avec plusieurs filtres : 32, 64, 128 avec activation ReLU\n",
    "- Couches de Pooling pour diminuer la complexité (diminue les dimensions et le nombre de paramètres pour éviter le surapprentissage)\n",
    "- Aplatissement\n",
    "- 2 couches denses de respectivement 128 et 10 neurones\n",
    "- dropout pour éviter le surapprentissage "
   ]
  },
  {
   "cell_type": "code",
   "execution_count": 4,
   "metadata": {},
   "outputs": [
    {
     "name": "stderr",
     "output_type": "stream",
     "text": [
      "C:\\Users\\vpica\\AppData\\Local\\Packages\\PythonSoftwareFoundation.Python.3.12_qbz5n2kfra8p0\\LocalCache\\local-packages\\Python312\\site-packages\\keras\\src\\layers\\convolutional\\base_conv.py:107: UserWarning: Do not pass an `input_shape`/`input_dim` argument to a layer. When using Sequential models, prefer using an `Input(shape)` object as the first layer in the model instead.\n",
      "  super().__init__(activity_regularizer=activity_regularizer, **kwargs)\n"
     ]
    }
   ],
   "source": [
    "from tensorflow.keras import models, layers\n",
    "\n",
    "model_cnn = models.Sequential()\n",
    "\n",
    "model_cnn.add(layers.Conv2D(32, (3, 3), activation='relu', input_shape=(32, 32, 3)))\n",
    "model_cnn.add(layers.MaxPooling2D((2, 2)))\n",
    "model_cnn.add(layers.Conv2D(64, (3, 3), activation='relu'))\n",
    "model_cnn.add(layers.MaxPooling2D((2, 2)))\n",
    "model_cnn.add(layers.Conv2D(128, (3, 3), activation='relu'))\n",
    "\n",
    "model_cnn.add(layers.MaxPooling2D((2, 2)))\n",
    "\n",
    "model_cnn.add(layers.Flatten())\n",
    "\n",
    "model_cnn.add(layers.Dense(128, activation='relu'))\n",
    "model_cnn.add(layers.Dropout(0.5)) \n",
    "model_cnn.add(layers.Dense(10, activation='softmax'))"
   ]
  },
  {
   "cell_type": "markdown",
   "metadata": {},
   "source": [
    "### Entrainement et optimisation du modèle "
   ]
  },
  {
   "cell_type": "code",
   "execution_count": null,
   "metadata": {},
   "outputs": [
    {
     "name": "stdout",
     "output_type": "stream",
     "text": [
      "Epoch 1/15\n",
      "\u001b[1m3125/3125\u001b[0m \u001b[32m━━━━━━━━━━━━━━━━━━━━\u001b[0m\u001b[37m\u001b[0m \u001b[1m29s\u001b[0m 8ms/step - loss: 1.7723 - sparse_categorical_accuracy: 0.3384 - val_loss: 1.2476 - val_sparse_categorical_accuracy: 0.5478\n",
      "Epoch 2/15\n",
      "\u001b[1m3125/3125\u001b[0m \u001b[32m━━━━━━━━━━━━━━━━━━━━\u001b[0m\u001b[37m\u001b[0m \u001b[1m36s\u001b[0m 7ms/step - loss: 1.2643 - sparse_categorical_accuracy: 0.5521 - val_loss: 0.9950 - val_sparse_categorical_accuracy: 0.6468\n",
      "Epoch 3/15\n",
      "\u001b[1m3125/3125\u001b[0m \u001b[32m━━━━━━━━━━━━━━━━━━━━\u001b[0m\u001b[37m\u001b[0m \u001b[1m25s\u001b[0m 8ms/step - loss: 1.0932 - sparse_categorical_accuracy: 0.6163 - val_loss: 0.9294 - val_sparse_categorical_accuracy: 0.6677\n",
      "Epoch 4/15\n",
      "\u001b[1m3125/3125\u001b[0m \u001b[32m━━━━━━━━━━━━━━━━━━━━\u001b[0m\u001b[37m\u001b[0m \u001b[1m25s\u001b[0m 8ms/step - loss: 0.9873 - sparse_categorical_accuracy: 0.6551 - val_loss: 0.8566 - val_sparse_categorical_accuracy: 0.6957\n",
      "Epoch 5/15\n",
      "\u001b[1m3125/3125\u001b[0m \u001b[32m━━━━━━━━━━━━━━━━━━━━\u001b[0m\u001b[37m\u001b[0m \u001b[1m23s\u001b[0m 7ms/step - loss: 0.9188 - sparse_categorical_accuracy: 0.6833 - val_loss: 0.8400 - val_sparse_categorical_accuracy: 0.7065\n",
      "Epoch 6/15\n",
      "\u001b[1m3125/3125\u001b[0m \u001b[32m━━━━━━━━━━━━━━━━━━━━\u001b[0m\u001b[37m\u001b[0m \u001b[1m22s\u001b[0m 7ms/step - loss: 0.8618 - sparse_categorical_accuracy: 0.7003 - val_loss: 0.8164 - val_sparse_categorical_accuracy: 0.7170\n",
      "Epoch 7/15\n",
      "\u001b[1m3125/3125\u001b[0m \u001b[32m━━━━━━━━━━━━━━━━━━━━\u001b[0m\u001b[37m\u001b[0m \u001b[1m24s\u001b[0m 8ms/step - loss: 0.8169 - sparse_categorical_accuracy: 0.7145 - val_loss: 0.7846 - val_sparse_categorical_accuracy: 0.7253\n",
      "Epoch 8/15\n",
      "\u001b[1m3125/3125\u001b[0m \u001b[32m━━━━━━━━━━━━━━━━━━━━\u001b[0m\u001b[37m\u001b[0m \u001b[1m26s\u001b[0m 8ms/step - loss: 0.7882 - sparse_categorical_accuracy: 0.7253 - val_loss: 0.8195 - val_sparse_categorical_accuracy: 0.7232\n",
      "Epoch 9/15\n",
      "\u001b[1m3125/3125\u001b[0m \u001b[32m━━━━━━━━━━━━━━━━━━━━\u001b[0m\u001b[37m\u001b[0m \u001b[1m26s\u001b[0m 8ms/step - loss: 0.7670 - sparse_categorical_accuracy: 0.7318 - val_loss: 0.7963 - val_sparse_categorical_accuracy: 0.7352\n",
      "Epoch 10/15\n",
      "\u001b[1m3125/3125\u001b[0m \u001b[32m━━━━━━━━━━━━━━━━━━━━\u001b[0m\u001b[37m\u001b[0m \u001b[1m26s\u001b[0m 8ms/step - loss: 0.7324 - sparse_categorical_accuracy: 0.7440 - val_loss: 0.7828 - val_sparse_categorical_accuracy: 0.7343\n",
      "Epoch 11/15\n",
      "\u001b[1m3125/3125\u001b[0m \u001b[32m━━━━━━━━━━━━━━━━━━━━\u001b[0m\u001b[37m\u001b[0m \u001b[1m27s\u001b[0m 9ms/step - loss: 0.7165 - sparse_categorical_accuracy: 0.7521 - val_loss: 0.7826 - val_sparse_categorical_accuracy: 0.7362\n",
      "Epoch 12/15\n",
      "\u001b[1m3125/3125\u001b[0m \u001b[32m━━━━━━━━━━━━━━━━━━━━\u001b[0m\u001b[37m\u001b[0m \u001b[1m25s\u001b[0m 8ms/step - loss: 0.6914 - sparse_categorical_accuracy: 0.7585 - val_loss: 0.8475 - val_sparse_categorical_accuracy: 0.7274\n",
      "Epoch 13/15\n",
      "\u001b[1m3125/3125\u001b[0m \u001b[32m━━━━━━━━━━━━━━━━━━━━\u001b[0m\u001b[37m\u001b[0m \u001b[1m26s\u001b[0m 8ms/step - loss: 0.6683 - sparse_categorical_accuracy: 0.7640 - val_loss: 0.7845 - val_sparse_categorical_accuracy: 0.7446\n",
      "Epoch 14/15\n",
      "\u001b[1m3125/3125\u001b[0m \u001b[32m━━━━━━━━━━━━━━━━━━━━\u001b[0m\u001b[37m\u001b[0m \u001b[1m26s\u001b[0m 8ms/step - loss: 0.6563 - sparse_categorical_accuracy: 0.7691 - val_loss: 0.8390 - val_sparse_categorical_accuracy: 0.7242\n",
      "Epoch 15/15\n",
      "\u001b[1m3125/3125\u001b[0m \u001b[32m━━━━━━━━━━━━━━━━━━━━\u001b[0m\u001b[37m\u001b[0m \u001b[1m26s\u001b[0m 8ms/step - loss: 0.6414 - sparse_categorical_accuracy: 0.7744 - val_loss: 0.7691 - val_sparse_categorical_accuracy: 0.7540\n"
     ]
    }
   ],
   "source": [
    "model_cnn.compile(optimizer='adam',\n",
    "              loss='sparse_categorical_crossentropy',  \n",
    "              metrics=['sparse_categorical_accuracy'])  \n",
    "\n",
    "# Entraînement du modèle avec les données combinées \n",
    "history = model_cnn.fit(x_train_combined, y_train_combined, epochs=15, batch_size=32, validation_data=(x_test, y_test))"
   ]
  }
 ],
 "metadata": {
  "kernelspec": {
   "display_name": "Python 3",
   "language": "python",
   "name": "python3"
  },
  "language_info": {
   "codemirror_mode": {
    "name": "ipython",
    "version": 3
   },
   "file_extension": ".py",
   "mimetype": "text/x-python",
   "name": "python",
   "nbconvert_exporter": "python",
   "pygments_lexer": "ipython3",
   "version": "3.12.7"
  }
 },
 "nbformat": 4,
 "nbformat_minor": 2
}
