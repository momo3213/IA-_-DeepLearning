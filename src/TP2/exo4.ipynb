{
 "cells": [
  {
   "cell_type": "markdown",
   "metadata": {},
   "source": [
    "## Exercice 2.4"
   ]
  },
  {
   "cell_type": "markdown",
   "metadata": {},
   "source": [
    "### Téléchargement, visualisation et préparation des données"
   ]
  },
  {
   "cell_type": "code",
   "execution_count": 39,
   "metadata": {},
   "outputs": [
    {
     "name": "stdout",
     "output_type": "stream",
     "text": [
      "Aperçu des données :\n",
      "              timestamp property language         type\n",
      "0  2013-10-26T16:45:20Z     P999       en        label\n",
      "1  2013-10-26T16:45:20Z     P999       en  description\n",
      "2  2013-10-26T18:16:05Z     P999       de        label\n",
      "3  2013-10-27T02:55:15Z     P999       pt        label\n",
      "4  2013-10-27T02:55:18Z     P999       fr        label\n",
      "Nombre de lignes: 241346\n"
     ]
    }
   ],
   "source": [
    "import pandas as pd\n",
    "\n",
    "url = \"https://zenodo.org/record/3271358/files/multilingual_wikidata_translation_flow.csv\"\n",
    "dataframe = pd.read_csv(url)\n",
    "\n",
    "print(\"Aperçu des données :\")\n",
    "print(dataframe.head())\n",
    "print(f\"Nombre de lignes: {len(dataframe)}\")"
   ]
  },
  {
   "cell_type": "code",
   "execution_count": 40,
   "metadata": {},
   "outputs": [
    {
     "name": "stdout",
     "output_type": "stream",
     "text": [
      "Nombre de lignes après nettoyage : 238793\n",
      "Distribution des langues :\n",
      "language\n",
      "en          15724\n",
      "uk          14658\n",
      "fr          13048\n",
      "ar          10987\n",
      "nl           8990\n",
      "            ...  \n",
      "kea             1\n",
      "khw             1\n",
      "ki              1\n",
      "kiu             1\n",
      "language        1\n",
      "Name: count, Length: 426, dtype: int64\n"
     ]
    },
    {
     "data": {
      "image/png": "[encoded data removed]",
      "text/plain": [
       "<Figure size 640x480 with 1 Axes>"
      ]
     },
     "metadata": {},
     "output_type": "display_data"
    }
   ],
   "source": [
    "import matplotlib.pyplot as plt\n",
    "dataframe = dataframe.drop_duplicates()\n",
    "dataframe = dataframe.dropna()\n",
    "\n",
    "print(f\"Nombre de lignes après nettoyage : {len(dataframe)}\")\n",
    "\n",
    "# Distribution des langues\n",
    "langue_counts = dataframe['language'].value_counts()\n",
    "print(\"Distribution des langues :\")\n",
    "print(langue_counts)\n",
    "\n",
    "# Bar plot pour les langues\n",
    "langue_counts.head(10).plot(kind='bar')\n",
    "plt.title(\"Top 10 des langues\")\n",
    "plt.xlabel(\"Langue\")\n",
    "plt.ylabel(\"Nombre d'actions\")\n",
    "plt.show()\n"
   ]
  },
  {
   "cell_type": "markdown",
   "metadata": {},
   "source": [
    "## Modélisation"
   ]
  },
  {
   "cell_type": "markdown",
   "metadata": {},
   "source": [
    "### Création des séquences de langues"
   ]
  },
  {
   "cell_type": "code",
   "execution_count": 41,
   "metadata": {},
   "outputs": [],
   "source": [
    "import numpy as np\n",
    "from sklearn.preprocessing import LabelEncoder\n",
    "\n",
    "# Encoder les langues\n",
    "label_encoder = LabelEncoder()\n",
    "dataframe['language_encoded'] = label_encoder.fit_transform(dataframe['language'])\n",
    "\n",
    "# Création des séquences de langues\n",
    "seq_length = 2  # On utilise les 2 langues précédentes pour prédire la suivante\n",
    "sequences = []\n",
    "next_languages = []\n",
    "\n",
    "for i in range(len(dataframe) - seq_length):\n",
    "    sequences.append(dataframe['language_encoded'].iloc[i:i+seq_length].values)  # Les langues précédentes\n",
    "    next_languages.append(dataframe['language_encoded'].iloc[i+seq_length])  # La langue suivante\n",
    "\n",
    "X = np.array(sequences)\n",
    "y = np.array(next_languages)"
   ]
  },
  {
   "cell_type": "code",
   "execution_count": 42,
   "metadata": {},
   "outputs": [
    {
     "name": "stdout",
     "output_type": "stream",
     "text": [
      "Premières séquences X :\n",
      "[[ 94  94]\n",
      " [ 94  79]\n",
      " [ 79 296]\n",
      " [296 109]\n",
      " [109 290]]\n",
      "Premières cibles y :\n",
      "[ 79 296 109 290 109]\n"
     ]
    }
   ],
   "source": [
    "print(\"Premières séquences X :\")\n",
    "print(X[:5])\n",
    "print(\"Premières cibles y :\")\n",
    "print(y[:5]) "
   ]
  },
  {
   "cell_type": "code",
   "execution_count": 43,
   "metadata": {},
   "outputs": [
    {
     "name": "stdout",
     "output_type": "stream",
     "text": [
      "Dimensions des données d'entraînement : (191032, 2)\n"
     ]
    }
   ],
   "source": [
    "import tensorflow as tf\n",
    "from sklearn.model_selection import train_test_split\n",
    "\n",
    "X_train, X_test, y_train, y_test = train_test_split(X, y, test_size=0.2)\n",
    "print(f\"Dimensions des données d'entraînement : {X_train.shape}\")\n",
    "\n",
    "X_train_subset = X_train[:int(0.1 * len(X_train))]\n",
    "y_train_subset = y_train[:int(0.1 * len(y_train))]\n"
   ]
  },
  {
   "cell_type": "markdown",
   "metadata": {},
   "source": [
    "### Modèle"
   ]
  },
  {
   "cell_type": "code",
   "execution_count": 44,
   "metadata": {},
   "outputs": [
    {
     "name": "stderr",
     "output_type": "stream",
     "text": [
      "C:\\Users\\vpica\\AppData\\Local\\Packages\\PythonSoftwareFoundation.Python.3.12_qbz5n2kfra8p0\\LocalCache\\local-packages\\Python312\\site-packages\\keras\\src\\layers\\core\\embedding.py:90: UserWarning: Argument `input_length` is deprecated. Just remove it.\n",
      "  warnings.warn(\n"
     ]
    }
   ],
   "source": [
    "from tensorflow.keras import layers, models\n",
    "\n",
    "vocab_size = 426  # Nombre de langues uniques\n",
    "seq_length = 2  # Longueur des séquences d'entrée\n",
    "\n",
    "model = models.Sequential()\n",
    "\n",
    "model.add(layers.Embedding(input_dim=vocab_size, output_dim=128, input_length=seq_length))\n",
    "\n",
    "model.add(layers.ZeroPadding1D(padding=2))  # Si tu veux ajouter du padding\n",
    "\n",
    "model.add(layers.Conv1D(256, 2, activation='relu', padding='same'))\n",
    "model.add(layers.Conv1D(512, 2, activation='relu', padding='same')) \n",
    "\n",
    "model.add(layers.Flatten())\n",
    "\n",
    "model.add(layers.Dense(1024, activation='relu'))\n",
    "model.add(layers.Dropout(0.5))\n",
    "model.add(layers.Dense(vocab_size, activation='softmax'))  # Prédiction des langues\n",
    "\n",
    "model.compile(optimizer='adam', loss='sparse_categorical_crossentropy', metrics=['accuracy'])\n"
   ]
  },
  {
   "cell_type": "markdown",
   "metadata": {},
   "source": [
    "### Entrainement "
   ]
  },
  {
   "cell_type": "code",
   "execution_count": 45,
   "metadata": {},
   "outputs": [
    {
     "name": "stdout",
     "output_type": "stream",
     "text": [
      "Epoch 1/10\n",
      "\u001b[1m192/192\u001b[0m \u001b[32m━━━━━━━━━━━━━━━━━━━━\u001b[0m\u001b[37m\u001b[0m \u001b[1m13s\u001b[0m 55ms/step - accuracy: 0.1193 - loss: 4.3128 - val_accuracy: 0.2512 - val_loss: 3.4993\n",
      "Epoch 2/10\n",
      "\u001b[1m192/192\u001b[0m \u001b[32m━━━━━━━━━━━━━━━━━━━━\u001b[0m\u001b[37m\u001b[0m \u001b[1m8s\u001b[0m 44ms/step - accuracy: 0.2633 - loss: 3.4451 - val_accuracy: 0.2994 - val_loss: 3.3115\n",
      "Epoch 3/10\n",
      "\u001b[1m192/192\u001b[0m \u001b[32m━━━━━━━━━━━━━━━━━━━━\u001b[0m\u001b[37m\u001b[0m \u001b[1m8s\u001b[0m 43ms/step - accuracy: 0.3064 - loss: 3.2437 - val_accuracy: 0.3100 - val_loss: 3.2673\n",
      "Epoch 4/10\n",
      "\u001b[1m192/192\u001b[0m \u001b[32m━━━━━━━━━━━━━━━━━━━━\u001b[0m\u001b[37m\u001b[0m \u001b[1m8s\u001b[0m 42ms/step - accuracy: 0.3179 - loss: 3.1334 - val_accuracy: 0.3178 - val_loss: 3.2501\n",
      "Epoch 5/10\n",
      "\u001b[1m192/192\u001b[0m \u001b[32m━━━━━━━━━━━━━━━━━━━━\u001b[0m\u001b[37m\u001b[0m \u001b[1m8s\u001b[0m 43ms/step - accuracy: 0.3244 - loss: 3.0867 - val_accuracy: 0.3236 - val_loss: 3.2454\n",
      "Epoch 6/10\n",
      "\u001b[1m192/192\u001b[0m \u001b[32m━━━━━━━━━━━━━━━━━━━━\u001b[0m\u001b[37m\u001b[0m \u001b[1m10s\u001b[0m 41ms/step - accuracy: 0.3236 - loss: 3.0270 - val_accuracy: 0.3279 - val_loss: 3.2367\n",
      "Epoch 7/10\n",
      "\u001b[1m192/192\u001b[0m \u001b[32m━━━━━━━━━━━━━━━━━━━━\u001b[0m\u001b[37m\u001b[0m \u001b[1m11s\u001b[0m 47ms/step - accuracy: 0.3361 - loss: 2.9568 - val_accuracy: 0.3284 - val_loss: 3.2495\n",
      "Epoch 8/10\n",
      "\u001b[1m192/192\u001b[0m \u001b[32m━━━━━━━━━━━━━━━━━━━━\u001b[0m\u001b[37m\u001b[0m \u001b[1m9s\u001b[0m 47ms/step - accuracy: 0.3290 - loss: 2.9346 - val_accuracy: 0.3293 - val_loss: 3.2484\n",
      "Epoch 9/10\n",
      "\u001b[1m192/192\u001b[0m \u001b[32m━━━━━━━━━━━━━━━━━━━━\u001b[0m\u001b[37m\u001b[0m \u001b[1m9s\u001b[0m 49ms/step - accuracy: 0.3367 - loss: 2.8762 - val_accuracy: 0.3260 - val_loss: 3.2870\n",
      "Epoch 10/10\n",
      "\u001b[1m192/192\u001b[0m \u001b[32m━━━━━━━━━━━━━━━━━━━━\u001b[0m\u001b[37m\u001b[0m \u001b[1m10s\u001b[0m 50ms/step - accuracy: 0.3389 - loss: 2.8151 - val_accuracy: 0.3264 - val_loss: 3.2996\n"
     ]
    }
   ],
   "source": [
    "history = model.fit(X_train_subset, y_train_subset, epochs=10, batch_size=100, validation_data=(X_test, y_test))"
   ]
  }
 ],
 "metadata": {
  "kernelspec": {
   "display_name": "Python 3",
   "language": "python",
   "name": "python3"
  },
  "language_info": {
   "codemirror_mode": {
    "name": "ipython",
    "version": 3
   },
   "file_extension": ".py",
   "mimetype": "text/x-python",
   "name": "python",
   "nbconvert_exporter": "python",
   "pygments_lexer": "ipython3",
   "version": "3.12.7"
  }
 },
 "nbformat": 4,
 "nbformat_minor": 2
}
